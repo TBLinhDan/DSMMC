{
 "cells": [
  {
   "cell_type": "code",
   "execution_count": 4,
   "id": "f844cdb9-643c-49f2-b490-47ee04064f4c",
   "metadata": {},
   "outputs": [
    {
     "name": "stdin",
     "output_type": "stream",
     "text": [
      "nhập độ dài (cm): 30.48\n"
     ]
    },
    {
     "name": "stdout",
     "output_type": "stream",
     "text": [
      "Độ dài 30.48 cm tương đương 1.0 foot\n"
     ]
    }
   ],
   "source": [
    "# Exercise 1:\n",
    "\n",
    "#Question 1:\n",
    "# chuyển đổi inch sang foot:  1 foot = 12 inches, 1 inch = 2.54 cm \n",
    "def Convert (x):\n",
    "    return (x/2.54/12)\n",
    "x = float(input(\"nhập độ dài (cm):\"))\n",
    "y = Convert (x)\n",
    "print(f\"Độ dài {x} cm tương đương {y} foot\")"
   ]
  },
  {
   "cell_type": "code",
   "execution_count": 10,
   "id": "347f479c-62c1-4e66-8e3e-94d26ccc930f",
   "metadata": {},
   "outputs": [
    {
     "name": "stdin",
     "output_type": "stream",
     "text": [
      "Nhập số giây: 34562\n"
     ]
    },
    {
     "name": "stdout",
     "output_type": "stream",
     "text": [
      "9 : 36 : 2\n"
     ]
    }
   ],
   "source": [
    "# Question 2:\n",
    "# Viết chương trình nhập vào số giây từ 0 tới 68399, đổi số giây này thành dạng [giờ:phút:giây], mỗi thành phần là một số nguyên có 2 chữ số.\n",
    "# Ví dụ: 02:11:05\n",
    "sogiay = int(input(\"Nhập số giây:\"))\n",
    "if sogiay < 0 or sogiay > 68399:\n",
    "    print(\"Mời nhập lại !\")\n",
    "else:\n",
    "    giay = sogiay % 60\n",
    "    phut = (sogiay // 60) % 60\n",
    "    gio =  (sogiay // 3600) % 60\n",
    "    print( gio,\":\", phut,\":\", giay)\n",
    "                \n"
   ]
  },
  {
   "cell_type": "code",
   "execution_count": 14,
   "id": "35a0b2c7-6089-4ebf-95b6-6215b9054fb7",
   "metadata": {},
   "outputs": [
    {
     "name": "stdin",
     "output_type": "stream",
     "text": [
      "Nhập số thứ nhất: 2\n",
      "Nhập số thứ hai: 4\n",
      "Nhập số thứ ba: 1\n",
      "Nhập số thứ tư: 6\n"
     ]
    },
    {
     "name": "stdout",
     "output_type": "stream",
     "text": [
      "Giá trị Lớn Nhất là số 6\n",
      "Giá trị Nhỏ Nhất là số 1\n"
     ]
    }
   ],
   "source": [
    "# Question 3:\n",
    "# Viết chương trình nhập vào 4 số nguyên. Hiển thị ra số lớn nhất và nhỏ nhất\n",
    "a = int(input(\"Nhập số thứ nhất:\"))\n",
    "b = int(input(\"Nhập số thứ hai:\"))\n",
    "c = int(input(\"Nhập số thứ ba:\"))\n",
    "d = int(input(\"Nhập số thứ tư:\"))\n",
    "max = 0\n",
    "min = 0\n",
    "def max(a,b,c,d):\n",
    "    if a >= b:\n",
    "        max1 = a \n",
    "    else:\n",
    "        max1 = b\n",
    "    if max1 >= c:\n",
    "        max2 = max1 \n",
    "    else:\n",
    "        max2 = c\n",
    "    if max2 >= d:\n",
    "        max = max2 \n",
    "    else:\n",
    "        max = d   \n",
    "    return(max)\n",
    "mx = max(a,b,c,d)\n",
    "print(\"Giá trị Lớn Nhất là số\", mx)\n",
    "\n",
    "def min(a,b,c,d):\n",
    "    if a <= b:\n",
    "        min1 = a \n",
    "    else:\n",
    "        min1 = b\n",
    "    if min1 <= c:\n",
    "        min2 = min1 \n",
    "    else:\n",
    "        min2 = c\n",
    "    if min2 <= d:\n",
    "        min = min2 \n",
    "    else:\n",
    "        min = d   \n",
    "    return(min)\n",
    "mn = min(a,b,c,d)\n",
    "print(\"Giá trị Nhỏ Nhất là số\", mn)"
   ]
  },
  {
   "cell_type": "code",
   "execution_count": 16,
   "id": "e517d3b3-5ba1-4357-b0ce-4d2aee2f6d3e",
   "metadata": {},
   "outputs": [
    {
     "name": "stdin",
     "output_type": "stream",
     "text": [
      "Nhập số thứ nhất: 6\n",
      "Nhập số thứ hai: 4\n"
     ]
    },
    {
     "name": "stdout",
     "output_type": "stream",
     "text": [
      "Số thứ nhất lớn hơn số thứ hai\n"
     ]
    }
   ],
   "source": [
    "# Question 4:  So sánh hai số\n",
    "a = int(input(\"Nhập số thứ nhất:\"))\n",
    "b = int(input(\"Nhập số thứ hai:\"))\n",
    "if (a-b) > 0:\n",
    "    print(\"Số thứ nhất lớn hơn số thứ hai\")\n",
    "else:\n",
    "    print(\"Số thứ nhất nhỏ hơn số thứ hai\")\n"
   ]
  },
  {
   "cell_type": "code",
   "execution_count": 18,
   "id": "ff1be2fa-4b3b-4bce-ab45-55c124990a56",
   "metadata": {},
   "outputs": [
    {
     "name": "stdin",
     "output_type": "stream",
     "text": [
      "Nhập số thứ nhất: 5\n",
      "Nhập số thứ hai: 3\n"
     ]
    },
    {
     "name": "stdout",
     "output_type": "stream",
     "text": [
      "Số thứ nhất không chia hết cho số thứ hai\n"
     ]
    }
   ],
   "source": [
    "# Question 5:\n",
    "# Nhập vào 2 số tự nhiên a và b. Kiểm tra xem a có chia hết cho b không\n",
    "a = int(input(\"Nhập số thứ nhất:\"))\n",
    "b = int(input(\"Nhập số thứ hai:\"))\n",
    "if (a%b) == 0:\n",
    "    print(\"Số thứ nhất chia hết cho số thứ hai\")\n",
    "else:\n",
    "    print(\"Số thứ nhất không chia hết cho số thứ hai\")"
   ]
  },
  {
   "cell_type": "code",
   "execution_count": 23,
   "id": "d65ae548-8db8-453b-8f93-40cd337ba282",
   "metadata": {},
   "outputs": [
    {
     "name": "stdin",
     "output_type": "stream",
     "text": [
      "Nhập Điểm Toán: 8\n",
      "Nhập Điểm Lý: 9\n",
      "Nhập Điểm Hoá: 10\n"
     ]
    },
    {
     "name": "stdout",
     "output_type": "stream",
     "text": [
      "Toán 8, Lý 9, Hoá 10 có Điểm trung bình cộng là 8.75. Học lực: Loại giỏi\n"
     ]
    }
   ],
   "source": [
    "# Phân loại học lực\n",
    "toan = int(input(\"Nhập Điểm Toán:\"))\n",
    "ly = int(input(\"Nhập Điểm Lý:\"))\n",
    "hoa = int(input(\"Nhập Điểm Hoá:\"))\n",
    "diem = (toan*2 + ly + hoa) / 4\n",
    "\n",
    "def hocluc(diem):   \n",
    "    if (diem >= 9):\n",
    "        return (\"Loại xuất sắc\") \n",
    "    elif (8.0<= diem < 9.0):\n",
    "        return (\"Loại giỏi\")\n",
    "    elif (7.0<= diem < 8.0):\n",
    "        return (\"Loại khá\")\n",
    "    elif (6.0 <= diem < 7.0):\n",
    "        return (\"Loại trung bình khá\")\n",
    "    elif (5.0 <= diem < 6.0):\n",
    "        return (\"Loại trung bình\")\n",
    "    else:\n",
    "        return(\"Loại kém\")\n",
    "\n",
    "hl= hocluc(diem)\n",
    "\n",
    "print(f\"Toán {toan}, Lý {ly}, Hoá {hoa} có Điểm trung bình cộng là {diem}. Học lực: {hl}\")"
   ]
  },
  {
   "cell_type": "code",
   "execution_count": 7,
   "id": "675ce50a-7c42-4ec3-bbed-f6823e5d6e0c",
   "metadata": {},
   "outputs": [
    {
     "name": "stdin",
     "output_type": "stream",
     "text": [
      "Nhập số Nguyên 123456789\n"
     ]
    },
    {
     "name": "stdout",
     "output_type": "stream",
     "text": [
      "Số nguyên 123456789 có tổng các chữ số là: 45\n"
     ]
    }
   ],
   "source": [
    "# Exercise 2:\n",
    "\n",
    "#Question 1:\n",
    "#Hãy viết chương trình tính tổng các chữ số của một số nguyên bất kỳ. Ví dụ: Số 8545604 có tổng các chữ số là: 8+5+4+5+6+0+4= 32\n",
    "\n",
    "n = int(input(\"Nhập số Nguyên\"))\n",
    "n_str = str(n)\n",
    "tong = 0\n",
    "for i in range (0, len(n_str)):\n",
    "    tong = tong + int(n_str[i])\n",
    "print(f\"Số nguyên {n} có tổng các chữ số là: {tong}\")\n"
   ]
  },
  {
   "cell_type": "code",
   "execution_count": 13,
   "id": "3fa147e5-5424-45da-94ab-b3b4f2924d0f",
   "metadata": {},
   "outputs": [
    {
     "name": "stdin",
     "output_type": "stream",
     "text": [
      "Nhập số Nguyên 28\n"
     ]
    },
    {
     "name": "stdout",
     "output_type": "stream",
     "text": [
      "Phân tích số 28 thành các thừa số nguyên tố: [2, 2, 7]\n"
     ]
    }
   ],
   "source": [
    "# Question 2:\n",
    "# Viết chương trình phân tích một số nguyên thành các thừa số nguyên tố\n",
    "# Ví dụ: Số 28 được phân tích thành 2 x 2 x 7\n",
    "n = int(input(\"Nhập số Nguyên\"))\n",
    "def Ham_TSNT(n):\n",
    "  lst_TSNT = []\n",
    "  i = 2\n",
    "  while i * i <= n:\n",
    "    while n % i == 0:\n",
    "      lst_TSNT.append(i)\n",
    "      n //= i\n",
    "    i += 1\n",
    "  if n > 1:\n",
    "    lst_TSNT.append(n)\n",
    "  return lst_TSNT\n",
    "lst_TSNT = Ham_TSNT(n)\n",
    "\n",
    "print(f\"Phân tích số {n} thành các thừa số nguyên tố: {lst_TSNT}\")"
   ]
  },
  {
   "cell_type": "code",
   "execution_count": null,
   "id": "ceb704c7-16d7-4101-af62-31ae5893704c",
   "metadata": {},
   "outputs": [],
   "source": [
    "# Question 3: \n",
    "# Viết chương trình liệt kê tất cả các số nguyên tố nhỏ hơn n cho trước... Chat GPT code để nghiên cứu\n",
    "'''\n",
    "Số nguyên tố là số tự nhiên lớn hơn 1 không phải là tích của hai số tự nhiên nhỏ hơn.\n",
    "số nguyên tố là những số chỉ có đúng hai ước số là 1 và chính nó.\n",
    "kiểm tra xem n có tính nguyên tố hay ko? có phải là Bội Số của bất kỳ số nguyên nào giữa 2 và căn bậc 2 của n hay không.\n",
    "Cho hai số tự nhiên a, b khác 0, nếu a chia hết cho b thì ta nói a là bội số của b.\n",
    "'''\n",
    "def is_prime(n):\n",
    "  \"\"\"\n",
    "  Kiểm tra xem n có phải là số nguyên tố không.\n",
    "  \"\"\"\n",
    "  if n <= 1:\n",
    "    return False\n",
    "  for i in range(2, int(n**0.5) + 1):\n",
    "    if n % i == 0:\n",
    "      return False\n",
    "  return True\n",
    "\n",
    "def list_primes(n):\n",
    "  \"\"\"\n",
    "  Liệt kê tất cả các số nguyên tố nhỏ hơn n.\n",
    "  \"\"\"\n",
    "  primes = []\n",
    "  for i in range(n):\n",
    "    if is_prime(i):\n",
    "      primes.append(i)\n",
    "  return primes\n",
    "\n",
    "# Nhập n\n",
    "n = int(input(\"Nhập n: \"))\n",
    "\n",
    "# Liệt kê các số nguyên tố nhỏ hơn n\n",
    "primes = list_primes(n)\n",
    "\n",
    "# In kết quả\n",
    "print(\"Các số nguyên tố nhỏ hơn\", n, \"là:\", primes)"
   ]
  },
  {
   "cell_type": "code",
   "execution_count": null,
   "id": "96cb9274-cc0f-40d1-8dd3-bf2fc56e0478",
   "metadata": {},
   "outputs": [],
   "source": [
    "# Question 4:\n",
    "# Viết chương trình liệt kê n số nguyên tố đầu tiên.\n"
   ]
  },
  {
   "cell_type": "code",
   "execution_count": null,
   "id": "2cd81713-49cd-42a4-9090-b798375ba0c8",
   "metadata": {},
   "outputs": [],
   "source": [
    "# Question 5:\n",
    "# Viết chương trình tìm ước số chung lớn nhất, bội số chung nhỏ nhất của hai số tự nhiên a và b.\n"
   ]
  },
  {
   "cell_type": "code",
   "execution_count": 12,
   "id": "b5b6c20a-f307-467c-9372-eef015b36a21",
   "metadata": {},
   "outputs": [
    {
     "name": "stdin",
     "output_type": "stream",
     "text": [
      "Nhập số n: 9\n"
     ]
    },
    {
     "name": "stdout",
     "output_type": "stream",
     "text": [
      "Số Fibonacci thứ 9 là: 21\n"
     ]
    }
   ],
   "source": [
    "# Question 6: \n",
    "#Dãy số Fibonacci được định nghĩa như sau: F0 =1, F1 = 1; Fn = (Fn-1 + Fn-2) với n>=2.\n",
    "# Hãy viết chương trình tìm số Fibonacci thứ n: 1  2  3  4  5  6  7  8   9   10  11  12  13 \n",
    "                                                0, 1, 1, 2, 3, 5, 8, 13, 21, 34, 55, 89, 144...\n",
    "\n",
    "n = int(input(\"Nhập số nguyên dương:\"))\n",
    "def F(n):\n",
    "  if n == 0:\n",
    "    return 0\n",
    "  elif n == 1 or n == 2:\n",
    "    return 1\n",
    "  else:\n",
    "    a, b = 0, 1\n",
    "    for _ in range(2, n):\n",
    "      c = a + b\n",
    "      a = b\n",
    "      b = c\n",
    "    return b\n",
    "Fn = F(n)\n",
    "print(f\"Số Fibonacci thứ {n} là: {Fn}\")"
   ]
  },
  {
   "cell_type": "code",
   "execution_count": 43,
   "id": "5321a373-f350-4a16-9928-75692b918408",
   "metadata": {},
   "outputs": [
    {
     "name": "stdin",
     "output_type": "stream",
     "text": [
      "Nhập số nguyên dương: 9\n"
     ]
    },
    {
     "name": "stdout",
     "output_type": "stream",
     "text": [
      "Số Fibonacci thứ 9 là: 21\n"
     ]
    }
   ],
   "source": [
    "n = int(input(\"Nhập số nguyên dương:\"))\n",
    "def F(n):\n",
    "  if n == 0 or n ==1:\n",
    "    return 1\n",
    "  else:\n",
    "    return f(n-1) + f(n-2)\n",
    "print(f\"Số Fibonacci thứ {n} là: {Fn}\")"
   ]
  },
  {
   "cell_type": "code",
   "execution_count": null,
   "id": "0a83c6f9-7fda-429e-8d22-5d70b59240c7",
   "metadata": {},
   "outputs": [],
   "source": [
    "# Question 7:\n",
    "# Nhập một số tự nhiên n. Hãy liệt kê các số Fibonaci nhỏ hơn n là số nguyên tố\n"
   ]
  },
  {
   "cell_type": "code",
   "execution_count": 13,
   "id": "a70a60e0-86a4-4ec6-8a38-e0688b9f9a68",
   "metadata": {},
   "outputs": [
    {
     "name": "stdin",
     "output_type": "stream",
     "text": [
      "Nhập số Nguyên 123\n"
     ]
    },
    {
     "name": "stdout",
     "output_type": "stream",
     "text": [
      "Số nguyên 123 có tổng các chữ số là: 6\n"
     ]
    }
   ],
   "source": [
    "# Question 8:\n",
    "'''\n",
    "Viết chương trình nhập một số nguyên dương n và thực hiện các chức năng sau:\n",
    "a) Tính tổng các chữ số của n.\n",
    "b) Phân tích n thành các thừa số nguyên tố.\n",
    "'''\n",
    "# Tính tổng các chữ số\n",
    "n = int(input(\"Nhập số Nguyên\"))\n",
    "n_str = str(n)\n",
    "tong = 0\n",
    "for i in range (0, len(n_str)):\n",
    "    tong = tong + int(n_str[i])\n",
    "print(f\"Số nguyên {n} có tổng các chữ số là: {tong}\")\n",
    "\n",
    "# Phân tích n thành các thừa số nguyên tố...\n"
   ]
  },
  {
   "cell_type": "code",
   "execution_count": null,
   "id": "928f68ec-c70e-4fba-80ab-1b8dfd27b1fa",
   "metadata": {},
   "outputs": [],
   "source": [
    "# Question 9:\n",
    "'''\n",
    "Viết chương trình nhập một số nguyên dương n và thực hiện các chức năng sau:\n",
    "a) Liệt kê các ước số của n. Có bao nhiêu ước số.\n",
    "b) Liệt kê các ước số là nguyên tố của n.\n",
    "'''\n"
   ]
  },
  {
   "cell_type": "code",
   "execution_count": 40,
   "id": "1215b890-7175-4c59-a5fc-ed934cef560b",
   "metadata": {},
   "outputs": [
    {
     "name": "stdout",
     "output_type": "stream",
     "text": [
      "Loại Bỏ Các Dấu Cách Thừa, Chuyển Ký Tự Đầu Mỗi Từ Thành Chữ Hoa, Các Ký Tự Khác Thành Chữ Thường\n"
     ]
    }
   ],
   "source": [
    "# Question 10:\n",
    "'''Viết chương trình thực hiện chuẩn hoá một xâu ký tự nhập từ bàn phím \n",
    "(loại bỏ các dấu cách thừa, chuyển ký tự đầu mỗi từ thành chữ hoa, các ký tự khác thành chữ thường)\n",
    "'''\n",
    "text = \"   loại bỏ các dấu cách thừa, chuyển ký tự đầu mỗi từ thành chữ hoa, các ký tự khác thành chữ thường   \"\n",
    "print(text.strip().title ())\n",
    "\n"
   ]
  },
  {
   "cell_type": "code",
   "execution_count": null,
   "id": "df1202c2-7fbb-4a55-bb14-8f9dcbd90791",
   "metadata": {},
   "outputs": [],
   "source": [
    "# Question 11:\n",
    "'''\n",
    "Viết chương trình thực hiện nhập một xâu ký tự\n",
    "a) Tìm từ dài nhất trong xâu đó.\n",
    "b) Từ đó xuất hiện ở vị trí nào?\n",
    "(Chú ý. nếu có nhiều từ có độ dài giống nhau thì chọn từ đầu tiên tìm thấy).\n",
    "'''\n"
   ]
  },
  {
   "cell_type": "code",
   "execution_count": null,
   "id": "67c349c4-78ae-4824-bbef-e9aeb751d797",
   "metadata": {},
   "outputs": [],
   "source": [
    "# Exercise 3:\n",
    "# Question 1: \n",
    "# Sử dụng for, while, do while để cho ra kết quả a, b, c, d như ảnh\n"
   ]
  },
  {
   "cell_type": "code",
   "execution_count": 41,
   "id": "d8c99d13-6810-4185-9f95-055dfff7ce98",
   "metadata": {},
   "outputs": [
    {
     "name": "stdin",
     "output_type": "stream",
     "text": [
      "Nhập số nguyên dương: 4\n"
     ]
    },
    {
     "name": "stdout",
     "output_type": "stream",
     "text": [
      "4! có giá trị là: 24\n"
     ]
    }
   ],
   "source": [
    "# Question 2:\n",
    "# Viết chương trình tính n! với n là số tự nhiên không âm nhập vào từ bàn phím. Trong đó: 0! = 1 n! = 1.2.3...n\n",
    "n = int(input(\"Nhập số nguyên dương:\"))\n",
    "def fact(n):\n",
    "  if n == 0 or n ==1:\n",
    "    return 1\n",
    "  else:\n",
    "    return n*fact(n-1)\n",
    "print(f\"{n}! có giá trị là: {fact(n)}\")\n"
   ]
  },
  {
   "cell_type": "code",
   "execution_count": 42,
   "id": "c939d14f-41d4-450d-b391-78c3d87d4b5f",
   "metadata": {},
   "outputs": [
    {
     "name": "stdin",
     "output_type": "stream",
     "text": [
      "Nhập số nguyên dương: 12\n"
     ]
    },
    {
     "name": "stdout",
     "output_type": "stream",
     "text": [
      "12! có giá trị là: 233\n"
     ]
    }
   ],
   "source": [
    "# Bài toán Tính Giai Thừa bằng phương pháp Đệ quy: Hàm gọi lại chính nó trong câu lệnh của Hàm\n",
    "n = int(input(\"Nhập số nguyên dương:\"))\n",
    "def f(n):\n",
    "  if n == 0 or n ==1:\n",
    "    return 1\n",
    "  else:\n",
    "    return f(n-1) + f(n-2)\n",
    "print(f\"{n}! có giá trị là: {f(n)}\")\n"
   ]
  },
  {
   "cell_type": "code",
   "execution_count": null,
   "id": "0243bf97-d496-49e8-925a-7ca405e13e56",
   "metadata": {},
   "outputs": [],
   "source": []
  }
 ],
 "metadata": {
  "kernelspec": {
   "display_name": "Python 3 (ipykernel)",
   "language": "python",
   "name": "python3"
  },
  "language_info": {
   "codemirror_mode": {
    "name": "ipython",
    "version": 3
   },
   "file_extension": ".py",
   "mimetype": "text/x-python",
   "name": "python",
   "nbconvert_exporter": "python",
   "pygments_lexer": "ipython3",
   "version": "3.11.7"
  }
 },
 "nbformat": 4,
 "nbformat_minor": 5
}
